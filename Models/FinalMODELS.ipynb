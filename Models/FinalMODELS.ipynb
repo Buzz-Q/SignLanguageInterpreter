{
 "cells": [
  {
   "cell_type": "code",
   "execution_count": 1,
   "id": "2816e706",
   "metadata": {},
   "outputs": [],
   "source": [
    "import os\n",
    "from os import listdir\n",
    "from os.path import isfile, join\n",
    "\n",
    "mypath = \"C:/Users/Basma/Downloads/GraduationProject/hearMeOut1/DataCleaned/Me\""
   ]
  },
  {
   "cell_type": "code",
   "execution_count": 2,
   "id": "e9c414fb",
   "metadata": {},
   "outputs": [
    {
     "name": "stdout",
     "output_type": "stream",
     "text": [
      "ASL2811_212607.xlsx\n",
      "data amount:  1044\n"
     ]
    }
   ],
   "source": [
    "onlyfiles = [f for f in listdir(mypath) if isfile(join(mypath, f))]\n",
    "print(onlyfiles[0])\n",
    "print('data amount: ', len(onlyfiles))"
   ]
  },
  {
   "cell_type": "code",
   "execution_count": 3,
   "id": "c31a7e21",
   "metadata": {
    "scrolled": true
   },
   "outputs": [],
   "source": [
    "import pandas as pd\n",
    "import numpy as np\n",
    "\n",
    "result = []\n",
    "inputs = np.empty((0,57))\n",
    "\n",
    "for exl in onlyfiles:\n",
    "    \n",
    "    #Collecting each file's data\n",
    "    file = join(mypath, exl)\n",
    "    read = pd.read_excel(file, header = None).to_numpy()\n",
    "    read = np.delete(read, 0, 0) #array, idx, axis\n",
    "    read = read.reshape(1,57)\n",
    "    inputs = np.append(inputs, read, axis=0)\n",
    "        \n",
    "    # Extracting the class from the file name\n",
    "    s = exl.split(\"_\")\n",
    "    no_digits = []\n",
    "    \n",
    "    # Iterate through the string, adding non-numbers to the no_digits list\n",
    "    for i in s[0]:\n",
    "        if not i.isdigit():\n",
    "            no_digits.append(i)\n",
    "\n",
    "    # Joining characters \n",
    "    result.append(''.join(no_digits))\n",
    "\n",
    "results = np.array(result)\n",
    "results = results.reshape(-1, 1)\n"
   ]
  },
  {
   "cell_type": "code",
   "execution_count": 70,
   "id": "fde0e40a",
   "metadata": {},
   "outputs": [],
   "source": [
    "# Putting the data in dataframe and shuffeling it\n",
    "# print(inputs.shape)\n",
    "# print(results.shape)\n",
    "data = np.concatenate((inputs, results), axis = 1)\n",
    "# print(data.shape)\n",
    "df = pd.DataFrame(data)\n",
    "df = df.sample(frac=1)\n",
    "\n",
    "X = df.iloc[:,0:57].to_numpy()\n",
    "X = np.asarray(X).astype(np.float32)\n",
    "Y = df.iloc[:,-1].to_numpy()"
   ]
  },
  {
   "cell_type": "code",
   "execution_count": 1,
   "id": "c3457191",
   "metadata": {},
   "outputs": [
    {
     "ename": "NameError",
     "evalue": "name 'Y' is not defined",
     "output_type": "error",
     "traceback": [
      "\u001b[1;31m---------------------------------------------------------------------------\u001b[0m",
      "\u001b[1;31mNameError\u001b[0m                                 Traceback (most recent call last)",
      "\u001b[1;32m~\\AppData\\Local\\Temp/ipykernel_3712/1673310132.py\u001b[0m in \u001b[0;36m<module>\u001b[1;34m\u001b[0m\n\u001b[0;32m      1\u001b[0m \u001b[1;31m# print(Y.values)\u001b[0m\u001b[1;33m\u001b[0m\u001b[1;33m\u001b[0m\u001b[1;33m\u001b[0m\u001b[0m\n\u001b[1;32m----> 2\u001b[1;33m \u001b[0mprint\u001b[0m\u001b[1;33m(\u001b[0m\u001b[0mY\u001b[0m\u001b[1;33m.\u001b[0m\u001b[0mshape\u001b[0m\u001b[1;33m)\u001b[0m\u001b[1;33m\u001b[0m\u001b[1;33m\u001b[0m\u001b[0m\n\u001b[0m\u001b[0;32m      3\u001b[0m \u001b[0mprint\u001b[0m\u001b[1;33m(\u001b[0m\u001b[0mtype\u001b[0m\u001b[1;33m(\u001b[0m\u001b[0mY\u001b[0m\u001b[1;33m)\u001b[0m\u001b[1;33m)\u001b[0m\u001b[1;33m\u001b[0m\u001b[1;33m\u001b[0m\u001b[0m\n\u001b[0;32m      4\u001b[0m \u001b[0mprint\u001b[0m\u001b[1;33m(\u001b[0m\u001b[0mY\u001b[0m\u001b[1;33m)\u001b[0m\u001b[1;33m\u001b[0m\u001b[1;33m\u001b[0m\u001b[0m\n\u001b[0;32m      5\u001b[0m \u001b[1;31m# print(X.values)\u001b[0m\u001b[1;33m\u001b[0m\u001b[1;33m\u001b[0m\u001b[1;33m\u001b[0m\u001b[0m\n",
      "\u001b[1;31mNameError\u001b[0m: name 'Y' is not defined"
     ]
    }
   ],
   "source": [
    "# print(Y.values)\n",
    "print(Y.shape)\n",
    "print(type(Y))\n",
    "print(Y)\n",
    "# print(X.values)\n",
    "print(X.shape)\n",
    "print(type(X))\n",
    "print(X)\n",
    "\n"
   ]
  },
  {
   "cell_type": "code",
   "execution_count": 72,
   "id": "d64ec247",
   "metadata": {
    "scrolled": true
   },
   "outputs": [],
   "source": [
    "#to encode strings into integers\n",
    "from sklearn.preprocessing import LabelEncoder\n",
    "encoder = LabelEncoder()\n",
    "encoder.fit(Y)\n",
    "encoded_Y = encoder.transform(Y)\n",
    "\n",
    "#to convert integers to dummy variables\n",
    "# from tensorflow.keras import utils #utils.np_utils\n",
    "# dummy_Y = utils.to_categorical(encoded_Y)\n",
    "#bt3ml I matrix lel classes"
   ]
  },
  {
   "cell_type": "code",
   "execution_count": 121,
   "id": "5c85a88f",
   "metadata": {},
   "outputs": [
    {
     "name": "stdout",
     "output_type": "stream",
     "text": [
      "{'yes', 'nothing', 'CULater', 'canIHelpU', 'welcome', 'want', 'please', 'signLanguage', 'hru', 'no', 'ASL', 'deaf', 'nicemeetu', 'ok', 'notAlot', 'learn', 'sorry', 'good', 'busy', 'hello', 'whatsup', 'have', 'hardHearing'}\n",
      "{0, 1, 2, 3, 4, 5, 6, 7, 8, 9, 10, 11, 12, 13, 14, 15, 16, 17, 18, 19, 20, 21, 22}\n",
      "{'yes', 'nothing', 'CULater', 'canIHelpU', 'welcome', 'want', 'please', 'signLanguage', 'hru', 'no', 'ASL', 'deaf', 'nicemeetu', 'ok', 'notAlot', 'learn', 'sorry', 'good', 'busy', 'hello', 'whatsup', 'have', 'hardHearing'}\n"
     ]
    }
   ],
   "source": [
    "print(set(Y))\n",
    "print(set(encoded_Y))\n",
    "decoded = encoder.inverse_transform(encoded_Y)\n",
    "print(set(decoded))"
   ]
  },
  {
   "cell_type": "code",
   "execution_count": 74,
   "id": "d25808b7",
   "metadata": {},
   "outputs": [
    {
     "name": "stdout",
     "output_type": "stream",
     "text": [
      "<class 'numpy.ndarray'>\n",
      "(1044,)\n",
      "[ 2 18  9 ... 22  1  6]\n"
     ]
    }
   ],
   "source": [
    "print(type(encoded_Y))\n",
    "print(encoded_Y.shape)\n",
    "print(encoded_Y)"
   ]
  },
  {
   "cell_type": "code",
   "execution_count": 75,
   "id": "e8f85b5e",
   "metadata": {},
   "outputs": [],
   "source": [
    "#Splitting data for training and testing\n",
    "from sklearn.model_selection import train_test_split\n",
    "X_train, X_test, Y_train, Y_test = train_test_split(X, encoded_Y, test_size=0.2, random_state=42)"
   ]
  },
  {
   "cell_type": "code",
   "execution_count": 76,
   "id": "70ace918",
   "metadata": {},
   "outputs": [
    {
     "name": "stdout",
     "output_type": "stream",
     "text": [
      "(835, 57)\n",
      "(835,)\n"
     ]
    }
   ],
   "source": [
    "print(X_train.shape)\n",
    "print(Y_train.shape)"
   ]
  },
  {
   "cell_type": "code",
   "execution_count": null,
   "id": "8aa53d54",
   "metadata": {},
   "outputs": [],
   "source": []
  },
  {
   "cell_type": "code",
   "execution_count": 125,
   "id": "cf907437",
   "metadata": {
    "scrolled": false
   },
   "outputs": [
    {
     "name": "stdout",
     "output_type": "stream",
     "text": [
      "              precision    recall  f1-score   support\n",
      "\n",
      "           0       1.00      1.00      1.00        15\n",
      "           1       0.91      1.00      0.95        10\n",
      "           2       1.00      1.00      1.00         9\n",
      "           3       1.00      1.00      1.00         7\n",
      "           4       1.00      1.00      1.00        15\n",
      "           5       1.00      1.00      1.00        13\n",
      "           6       1.00      1.00      1.00        13\n",
      "           7       0.89      1.00      0.94         8\n",
      "           8       1.00      1.00      1.00         7\n",
      "           9       1.00      1.00      1.00         8\n",
      "          10       1.00      0.93      0.97        15\n",
      "          11       1.00      1.00      1.00         9\n",
      "          12       1.00      1.00      1.00         5\n",
      "          13       1.00      1.00      1.00        13\n",
      "          14       0.92      1.00      0.96        11\n",
      "          15       1.00      1.00      1.00         2\n",
      "          16       1.00      1.00      1.00         7\n",
      "          17       1.00      1.00      1.00         6\n",
      "          18       0.86      1.00      0.92         6\n",
      "          19       1.00      0.82      0.90        11\n",
      "          20       1.00      1.00      1.00         4\n",
      "          21       1.00      0.89      0.94         9\n",
      "          22       1.00      1.00      1.00         6\n",
      "\n",
      "    accuracy                           0.98       209\n",
      "   macro avg       0.98      0.98      0.98       209\n",
      "weighted avg       0.98      0.98      0.98       209\n",
      "\n"
     ]
    }
   ],
   "source": [
    "from sklearn.neighbors import KNeighborsClassifier\n",
    "neigh = KNeighborsClassifier(n_neighbors=5)\n",
    "neigh.fit(X_train, Y_train)\n",
    "\n",
    "from sklearn.metrics import classification_report\n",
    "Y_predict = neigh.predict(X_test)\n",
    "print(classification_report(Y_test, Y_predict))"
   ]
  },
  {
   "cell_type": "code",
   "execution_count": 112,
   "id": "c9bddcf6",
   "metadata": {},
   "outputs": [
    {
     "name": "stderr",
     "output_type": "stream",
     "text": [
      "C:\\Users\\Basma\\anaconda3\\lib\\site-packages\\sklearn\\utils\\deprecation.py:87: FutureWarning: Function plot_confusion_matrix is deprecated; Function `plot_confusion_matrix` is deprecated in 1.0 and will be removed in 1.2. Use one of the class methods: ConfusionMatrixDisplay.from_predictions or ConfusionMatrixDisplay.from_estimator.\n",
      "  warnings.warn(msg, category=FutureWarning)\n"
     ]
    },
    {
     "data": {
      "image/png": "[encoded data removed]",
      "text/plain": [
       "<Figure size 432x288 with 2 Axes>"
      ]
     },
     "metadata": {
      "needs_background": "light"
     },
     "output_type": "display_data"
    }
   ],
   "source": [
    "import matplotlib.pyplot as plt\n",
    "from sklearn.metrics import plot_confusion_matrix\n",
    "plot_confusion_matrix(neigh, X_test, Y_test)\n",
    "plt.show()"
   ]
  },
  {
   "cell_type": "code",
   "execution_count": 78,
   "id": "f0dd3580",
   "metadata": {
    "scrolled": false
   },
   "outputs": [],
   "source": [
    "# neigh.score(Y_test, Y_predict)"
   ]
  },
  {
   "cell_type": "code",
   "execution_count": 79,
   "id": "f0b49c07",
   "metadata": {
    "scrolled": false
   },
   "outputs": [
    {
     "name": "stdout",
     "output_type": "stream",
     "text": [
      "              precision    recall  f1-score   support\n",
      "\n",
      "           0       1.00      1.00      1.00        15\n",
      "           1       0.91      1.00      0.95        10\n",
      "           2       1.00      1.00      1.00         9\n",
      "           3       1.00      0.86      0.92         7\n",
      "           4       1.00      1.00      1.00        15\n",
      "           5       1.00      1.00      1.00        13\n",
      "           6       1.00      1.00      1.00        13\n",
      "           7       1.00      1.00      1.00         8\n",
      "           8       1.00      1.00      1.00         7\n",
      "           9       1.00      1.00      1.00         8\n",
      "          10       1.00      1.00      1.00        15\n",
      "          11       1.00      1.00      1.00         9\n",
      "          12       1.00      1.00      1.00         5\n",
      "          13       0.93      1.00      0.96        13\n",
      "          14       0.92      1.00      0.96        11\n",
      "          15       1.00      1.00      1.00         2\n",
      "          16       1.00      1.00      1.00         7\n",
      "          17       1.00      1.00      1.00         6\n",
      "          18       0.86      1.00      0.92         6\n",
      "          19       1.00      0.82      0.90        11\n",
      "          20       1.00      1.00      1.00         4\n",
      "          21       1.00      0.89      0.94         9\n",
      "          22       1.00      1.00      1.00         6\n",
      "\n",
      "    accuracy                           0.98       209\n",
      "   macro avg       0.98      0.98      0.98       209\n",
      "weighted avg       0.98      0.98      0.98       209\n",
      "\n"
     ]
    }
   ],
   "source": [
    "neigh2 = KNeighborsClassifier(n_neighbors=3)\n",
    "neigh2.fit(X_train, Y_train)\n",
    "\n",
    "Y2_predict = neigh2.predict(X_test)\n",
    "print(classification_report(Y_test, Y2_predict))"
   ]
  },
  {
   "cell_type": "code",
   "execution_count": 103,
   "id": "870191f9",
   "metadata": {},
   "outputs": [
    {
     "name": "stderr",
     "output_type": "stream",
     "text": [
      "C:\\Users\\Basma\\anaconda3\\lib\\site-packages\\sklearn\\utils\\deprecation.py:87: FutureWarning: Function plot_confusion_matrix is deprecated; Function `plot_confusion_matrix` is deprecated in 1.0 and will be removed in 1.2. Use one of the class methods: ConfusionMatrixDisplay.from_predictions or ConfusionMatrixDisplay.from_estimator.\n",
      "  warnings.warn(msg, category=FutureWarning)\n"
     ]
    },
    {
     "data": {
      "text/plain": [
       "<sklearn.metrics._plot.confusion_matrix.ConfusionMatrixDisplay at 0x1d4e3fc4700>"
      ]
     },
     "execution_count": 103,
     "metadata": {},
     "output_type": "execute_result"
    },
    {
     "data": {
      "image/png": "[encoded data removed]",
      "text/plain": [
       "<Figure size 432x288 with 2 Axes>"
      ]
     },
     "metadata": {
      "needs_background": "light"
     },
     "output_type": "display_data"
    }
   ],
   "source": [
    "from sklearn.metrics import plot_confusion_matrix\n",
    "plot_confusion_matrix(neigh2, X_test, Y_test)"
   ]
  },
  {
   "cell_type": "code",
   "execution_count": 92,
   "id": "f779e0ba",
   "metadata": {},
   "outputs": [
    {
     "name": "stderr",
     "output_type": "stream",
     "text": [
      "C:\\Users\\Basma\\anaconda3\\lib\\site-packages\\sklearn\\linear_model\\_sag.py:352: ConvergenceWarning: The max_iter was reached which means the coef_ did not converge\n",
      "  warnings.warn(\n"
     ]
    }
   ],
   "source": [
    "from sklearn.linear_model import LogisticRegression\n",
    "lr = LogisticRegression(warm_start = True,\n",
    "                         solver = 'sag',\n",
    "                         random_state = 42,\n",
    "                         multi_class = 'multinomial',\n",
    "                         max_iter=1000)\n",
    "lr = lr.fit(X_train, Y_train)\n",
    "# lr.score(X_train, Y_train)"
   ]
  },
  {
   "cell_type": "code",
   "execution_count": 93,
   "id": "c8756217",
   "metadata": {},
   "outputs": [
    {
     "name": "stdout",
     "output_type": "stream",
     "text": [
      "              precision    recall  f1-score   support\n",
      "\n",
      "           0       1.00      1.00      1.00        15\n",
      "           1       1.00      1.00      1.00        10\n",
      "           2       1.00      1.00      1.00         9\n",
      "           3       1.00      1.00      1.00         7\n",
      "           4       1.00      0.93      0.97        15\n",
      "           5       1.00      0.92      0.96        13\n",
      "           6       1.00      1.00      1.00        13\n",
      "           7       1.00      1.00      1.00         8\n",
      "           8       1.00      1.00      1.00         7\n",
      "           9       1.00      1.00      1.00         8\n",
      "          10       0.86      0.80      0.83        15\n",
      "          11       1.00      1.00      1.00         9\n",
      "          12       0.43      0.60      0.50         5\n",
      "          13       1.00      1.00      1.00        13\n",
      "          14       0.71      0.91      0.80        11\n",
      "          15       1.00      1.00      1.00         2\n",
      "          16       1.00      0.86      0.92         7\n",
      "          17       0.86      1.00      0.92         6\n",
      "          18       1.00      0.83      0.91         6\n",
      "          19       0.90      0.82      0.86        11\n",
      "          20       0.80      1.00      0.89         4\n",
      "          21       0.89      0.89      0.89         9\n",
      "          22       1.00      0.83      0.91         6\n",
      "\n",
      "    accuracy                           0.93       209\n",
      "   macro avg       0.93      0.93      0.93       209\n",
      "weighted avg       0.94      0.93      0.94       209\n",
      "\n"
     ]
    }
   ],
   "source": [
    "Ylr_predict = lr.predict(X_test)\n",
    "print(classification_report(Y_test, Ylr_predict))"
   ]
  },
  {
   "cell_type": "code",
   "execution_count": 104,
   "id": "57838448",
   "metadata": {},
   "outputs": [
    {
     "name": "stderr",
     "output_type": "stream",
     "text": [
      "C:\\Users\\Basma\\anaconda3\\lib\\site-packages\\sklearn\\utils\\deprecation.py:87: FutureWarning: Function plot_confusion_matrix is deprecated; Function `plot_confusion_matrix` is deprecated in 1.0 and will be removed in 1.2. Use one of the class methods: ConfusionMatrixDisplay.from_predictions or ConfusionMatrixDisplay.from_estimator.\n",
      "  warnings.warn(msg, category=FutureWarning)\n"
     ]
    },
    {
     "data": {
      "text/plain": [
       "<sklearn.metrics._plot.confusion_matrix.ConfusionMatrixDisplay at 0x1d4e3f78fd0>"
      ]
     },
     "execution_count": 104,
     "metadata": {},
     "output_type": "execute_result"
    },
    {
     "data": {
      "image/png": "[encoded data removed]",
      "text/plain": [
       "<Figure size 432x288 with 2 Axes>"
      ]
     },
     "metadata": {
      "needs_background": "light"
     },
     "output_type": "display_data"
    }
   ],
   "source": [
    "from sklearn.metrics import plot_confusion_matrix\n",
    "plot_confusion_matrix(lr, X_test, Y_test)"
   ]
  },
  {
   "cell_type": "code",
   "execution_count": null,
   "id": "95456e90",
   "metadata": {},
   "outputs": [],
   "source": []
  },
  {
   "cell_type": "code",
   "execution_count": 94,
   "id": "3881ce77",
   "metadata": {},
   "outputs": [
    {
     "data": {
      "text/plain": [
       "RandomForestClassifier(max_depth=10, random_state=0)"
      ]
     },
     "execution_count": 94,
     "metadata": {},
     "output_type": "execute_result"
    }
   ],
   "source": [
    "from sklearn.ensemble import RandomForestClassifier\n",
    "from sklearn.datasets import make_classification\n",
    "\n",
    "rf = RandomForestClassifier(n_estimators=100,\n",
    "                            max_depth=10, random_state=0)\n",
    "rf.fit(X_train, Y_train)"
   ]
  },
  {
   "cell_type": "code",
   "execution_count": 95,
   "id": "10752f7d",
   "metadata": {},
   "outputs": [
    {
     "name": "stdout",
     "output_type": "stream",
     "text": [
      "              precision    recall  f1-score   support\n",
      "\n",
      "           0       1.00      1.00      1.00        15\n",
      "           1       1.00      1.00      1.00        10\n",
      "           2       1.00      1.00      1.00         9\n",
      "           3       1.00      1.00      1.00         7\n",
      "           4       1.00      1.00      1.00        15\n",
      "           5       1.00      0.92      0.96        13\n",
      "           6       1.00      1.00      1.00        13\n",
      "           7       1.00      1.00      1.00         8\n",
      "           8       1.00      1.00      1.00         7\n",
      "           9       1.00      1.00      1.00         8\n",
      "          10       1.00      1.00      1.00        15\n",
      "          11       1.00      1.00      1.00         9\n",
      "          12       1.00      1.00      1.00         5\n",
      "          13       1.00      1.00      1.00        13\n",
      "          14       1.00      1.00      1.00        11\n",
      "          15       1.00      1.00      1.00         2\n",
      "          16       0.88      1.00      0.93         7\n",
      "          17       1.00      1.00      1.00         6\n",
      "          18       1.00      1.00      1.00         6\n",
      "          19       1.00      0.91      0.95        11\n",
      "          20       0.80      1.00      0.89         4\n",
      "          21       1.00      1.00      1.00         9\n",
      "          22       1.00      1.00      1.00         6\n",
      "\n",
      "    accuracy                           0.99       209\n",
      "   macro avg       0.99      0.99      0.99       209\n",
      "weighted avg       0.99      0.99      0.99       209\n",
      "\n"
     ]
    }
   ],
   "source": [
    "from sklearn.metrics import classification_report\n",
    "Yrf_predict = rf.predict(X_test)\n",
    "print(classification_report(Y_test, Yrf_predict))"
   ]
  },
  {
   "cell_type": "code",
   "execution_count": 105,
   "id": "92d2a342",
   "metadata": {},
   "outputs": [
    {
     "name": "stderr",
     "output_type": "stream",
     "text": [
      "C:\\Users\\Basma\\anaconda3\\lib\\site-packages\\sklearn\\utils\\deprecation.py:87: FutureWarning: Function plot_confusion_matrix is deprecated; Function `plot_confusion_matrix` is deprecated in 1.0 and will be removed in 1.2. Use one of the class methods: ConfusionMatrixDisplay.from_predictions or ConfusionMatrixDisplay.from_estimator.\n",
      "  warnings.warn(msg, category=FutureWarning)\n"
     ]
    },
    {
     "data": {
      "text/plain": [
       "<sklearn.metrics._plot.confusion_matrix.ConfusionMatrixDisplay at 0x1d4e4faffd0>"
      ]
     },
     "execution_count": 105,
     "metadata": {},
     "output_type": "execute_result"
    },
    {
     "data": {
      "image/png": "[encoded data removed]",
      "text/plain": [
       "<Figure size 432x288 with 2 Axes>"
      ]
     },
     "metadata": {
      "needs_background": "light"
     },
     "output_type": "display_data"
    }
   ],
   "source": [
    "from sklearn.metrics import plot_confusion_matrix\n",
    "plot_confusion_matrix(rf, X_test, Y_test)"
   ]
  },
  {
   "cell_type": "code",
   "execution_count": null,
   "id": "b15248cd",
   "metadata": {},
   "outputs": [],
   "source": []
  },
  {
   "cell_type": "code",
   "execution_count": 106,
   "id": "4e232fa1",
   "metadata": {
    "scrolled": false
   },
   "outputs": [
    {
     "name": "stdout",
     "output_type": "stream",
     "text": [
      "              precision    recall  f1-score   support\n",
      "\n",
      "           0       0.82      0.93      0.87        15\n",
      "           1       1.00      1.00      1.00        10\n",
      "           2       0.83      0.56      0.67         9\n",
      "           3       0.88      1.00      0.93         7\n",
      "           4       0.87      0.87      0.87        15\n",
      "           5       0.92      0.92      0.92        13\n",
      "           6       0.75      0.92      0.83        13\n",
      "           7       1.00      1.00      1.00         8\n",
      "           8       0.83      0.71      0.77         7\n",
      "           9       1.00      1.00      1.00         8\n",
      "          10       1.00      1.00      1.00        15\n",
      "          11       1.00      1.00      1.00         9\n",
      "          12       0.67      0.80      0.73         5\n",
      "          13       1.00      1.00      1.00        13\n",
      "          14       0.85      1.00      0.92        11\n",
      "          15       0.67      1.00      0.80         2\n",
      "          16       1.00      0.86      0.92         7\n",
      "          17       0.83      0.83      0.83         6\n",
      "          18       0.86      1.00      0.92         6\n",
      "          19       0.86      0.55      0.67        11\n",
      "          20       1.00      0.75      0.86         4\n",
      "          21       1.00      0.89      0.94         9\n",
      "          22       1.00      1.00      1.00         6\n",
      "\n",
      "    accuracy                           0.90       209\n",
      "   macro avg       0.90      0.90      0.89       209\n",
      "weighted avg       0.90      0.90      0.90       209\n",
      "\n"
     ]
    }
   ],
   "source": [
    "from sklearn.model_selection import cross_val_score\n",
    "from sklearn.tree import DecisionTreeClassifier\n",
    "dt = DecisionTreeClassifier(random_state=0) \n",
    "dt.fit(X_train, Y_train)\n",
    "cross_val_score(dt, X_train, Y_train, cv=10)\n",
    "\n",
    "Ydt_predict = dt.predict(X_test)\n",
    "print(classification_report(Y_test, Ydt_predict))"
   ]
  },
  {
   "cell_type": "code",
   "execution_count": 109,
   "id": "add59e5b",
   "metadata": {},
   "outputs": [
    {
     "name": "stderr",
     "output_type": "stream",
     "text": [
      "C:\\Users\\Basma\\anaconda3\\lib\\site-packages\\sklearn\\utils\\deprecation.py:87: FutureWarning: Function plot_confusion_matrix is deprecated; Function `plot_confusion_matrix` is deprecated in 1.0 and will be removed in 1.2. Use one of the class methods: ConfusionMatrixDisplay.from_predictions or ConfusionMatrixDisplay.from_estimator.\n",
      "  warnings.warn(msg, category=FutureWarning)\n"
     ]
    },
    {
     "data": {
      "text/plain": [
       "<sklearn.metrics._plot.confusion_matrix.ConfusionMatrixDisplay at 0x1d4e6e23610>"
      ]
     },
     "execution_count": 109,
     "metadata": {},
     "output_type": "execute_result"
    },
    {
     "data": {
      "image/png": "[encoded data removed]",
      "text/plain": [
       "<Figure size 432x288 with 2 Axes>"
      ]
     },
     "metadata": {
      "needs_background": "light"
     },
     "output_type": "display_data"
    }
   ],
   "source": [
    "from sklearn.metrics import plot_confusion_matrix\n",
    "plot_confusion_matrix(dt, X_test, Y_test)"
   ]
  },
  {
   "cell_type": "code",
   "execution_count": null,
   "id": "9dc852c0",
   "metadata": {},
   "outputs": [],
   "source": []
  },
  {
   "cell_type": "code",
   "execution_count": 97,
   "id": "5b17c2f9",
   "metadata": {},
   "outputs": [
    {
     "data": {
      "text/plain": [
       "Pipeline(steps=[('standardscaler', StandardScaler()),\n",
       "                ('svc', SVC(gamma='auto'))])"
      ]
     },
     "execution_count": 97,
     "metadata": {},
     "output_type": "execute_result"
    }
   ],
   "source": [
    "from sklearn.pipeline import make_pipeline\n",
    "from sklearn.preprocessing import StandardScaler\n",
    "from sklearn.svm import SVC\n",
    "\n",
    "svm = make_pipeline(StandardScaler(), SVC(gamma='auto'))\n",
    "svm.fit(X_train, Y_train)"
   ]
  },
  {
   "cell_type": "code",
   "execution_count": 98,
   "id": "180a8490",
   "metadata": {
    "scrolled": false
   },
   "outputs": [
    {
     "name": "stdout",
     "output_type": "stream",
     "text": [
      "              precision    recall  f1-score   support\n",
      "\n",
      "           0       1.00      1.00      1.00        15\n",
      "           1       1.00      1.00      1.00        10\n",
      "           2       1.00      1.00      1.00         9\n",
      "           3       1.00      0.86      0.92         7\n",
      "           4       1.00      1.00      1.00        15\n",
      "           5       1.00      1.00      1.00        13\n",
      "           6       1.00      1.00      1.00        13\n",
      "           7       1.00      1.00      1.00         8\n",
      "           8       1.00      1.00      1.00         7\n",
      "           9       1.00      1.00      1.00         8\n",
      "          10       0.94      1.00      0.97        15\n",
      "          11       1.00      1.00      1.00         9\n",
      "          12       1.00      1.00      1.00         5\n",
      "          13       1.00      1.00      1.00        13\n",
      "          14       0.92      1.00      0.96        11\n",
      "          15       1.00      1.00      1.00         2\n",
      "          16       1.00      1.00      1.00         7\n",
      "          17       0.86      1.00      0.92         6\n",
      "          18       1.00      1.00      1.00         6\n",
      "          19       1.00      0.91      0.95        11\n",
      "          20       1.00      1.00      1.00         4\n",
      "          21       1.00      0.89      0.94         9\n",
      "          22       1.00      1.00      1.00         6\n",
      "\n",
      "    accuracy                           0.99       209\n",
      "   macro avg       0.99      0.99      0.99       209\n",
      "weighted avg       0.99      0.99      0.99       209\n",
      "\n"
     ]
    }
   ],
   "source": [
    "Ysvm_predict = svm.predict(X_test)\n",
    "print(classification_report(Y_test, Ysvm_predict))\n"
   ]
  },
  {
   "cell_type": "code",
   "execution_count": 110,
   "id": "2620d079",
   "metadata": {},
   "outputs": [
    {
     "name": "stderr",
     "output_type": "stream",
     "text": [
      "C:\\Users\\Basma\\anaconda3\\lib\\site-packages\\sklearn\\utils\\deprecation.py:87: FutureWarning: Function plot_confusion_matrix is deprecated; Function `plot_confusion_matrix` is deprecated in 1.0 and will be removed in 1.2. Use one of the class methods: ConfusionMatrixDisplay.from_predictions or ConfusionMatrixDisplay.from_estimator.\n",
      "  warnings.warn(msg, category=FutureWarning)\n"
     ]
    },
    {
     "data": {
      "text/plain": [
       "<sklearn.metrics._plot.confusion_matrix.ConfusionMatrixDisplay at 0x1d4e4f769d0>"
      ]
     },
     "execution_count": 110,
     "metadata": {},
     "output_type": "execute_result"
    },
    {
     "data": {
      "image/png": "[encoded data removed]",
      "text/plain": [
       "<Figure size 432x288 with 2 Axes>"
      ]
     },
     "metadata": {
      "needs_background": "light"
     },
     "output_type": "display_data"
    }
   ],
   "source": [
    "from sklearn.metrics import plot_confusion_matrix\n",
    "plot_confusion_matrix(svm, X_test, Y_test)"
   ]
  },
  {
   "cell_type": "code",
   "execution_count": null,
   "id": "2829f605",
   "metadata": {},
   "outputs": [],
   "source": []
  },
  {
   "cell_type": "code",
   "execution_count": 67,
   "id": "f548e51b",
   "metadata": {},
   "outputs": [
    {
     "name": "stdout",
     "output_type": "stream",
     "text": [
      "              precision    recall  f1-score   support\n",
      "\n",
      "           0       0.88      0.88      0.88         8\n",
      "           1       0.89      1.00      0.94         8\n",
      "           2       1.00      1.00      1.00         5\n",
      "           3       1.00      0.90      0.95        10\n",
      "           4       1.00      0.88      0.93         8\n",
      "           5       0.88      1.00      0.93         7\n",
      "           6       1.00      1.00      1.00        10\n",
      "           7       0.80      0.80      0.80         5\n",
      "           8       1.00      0.89      0.94         9\n",
      "           9       1.00      0.88      0.93         8\n",
      "          10       0.80      0.80      0.80        10\n",
      "          11       0.94      1.00      0.97        16\n",
      "          12       0.62      0.89      0.73         9\n",
      "          13       1.00      0.88      0.93        16\n",
      "          14       0.83      0.50      0.62        10\n",
      "          15       1.00      1.00      1.00        11\n",
      "          16       1.00      1.00      1.00         7\n",
      "          17       1.00      1.00      1.00         8\n",
      "          18       0.90      1.00      0.95         9\n",
      "          19       0.69      0.92      0.79        12\n",
      "          20       0.80      1.00      0.89         4\n",
      "          21       0.90      0.75      0.82        12\n",
      "          22       1.00      0.86      0.92         7\n",
      "\n",
      "    accuracy                           0.90       209\n",
      "   macro avg       0.91      0.90      0.90       209\n",
      "weighted avg       0.91      0.90      0.90       209\n",
      "\n"
     ]
    }
   ],
   "source": [
    "from sklearn.datasets import make_hastie_10_2\n",
    "from sklearn.ensemble import GradientBoostingClassifier\n",
    "\n",
    "gb = GradientBoostingClassifier(n_estimators=1000, \n",
    "                                 learning_rate=0.3,\n",
    "                                 max_depth=8, \n",
    "                                 random_state=0)\n",
    "gb.fit(X_train, Y_train)\n",
    "Ygb_predict = gb.predict(X_test)\n",
    "print(classification_report(Y_test, Ygb_predict))\n"
   ]
  },
  {
   "cell_type": "code",
   "execution_count": 99,
   "id": "ed8d227a",
   "metadata": {},
   "outputs": [],
   "source": [
    "#Saving all the models\n",
    "# import pickle\n",
    "# knn1file = 'knn1.sav'\n",
    "# knn3file = 'knn3.sav'\n",
    "# lrFile = 'lr.sav'\n",
    "# svmFile = 'svm.sav'\n",
    "# rfFile = 'rf.sav'\n",
    "# dtFile = 'dt.sav'\n",
    "\n",
    "# pickle.dump(neigh, open(knn1file, 'wb'))\n",
    "# pickle.dump(neigh2, open(knn3file, 'wb'))\n",
    "# pickle.dump(lr, open(lrFile, 'wb'))\n",
    "# pickle.dump(svm, open(svmFile, 'wb'))\n",
    "# pickle.dump(rf, open(rfFile, 'wb'))\n",
    "# pickle.dump(dt, open(dtFile, 'wb'))\n",
    "\n"
   ]
  },
  {
   "cell_type": "code",
   "execution_count": 247,
   "id": "24edef4e",
   "metadata": {},
   "outputs": [
    {
     "name": "stdout",
     "output_type": "stream",
     "text": [
      "              precision    recall  f1-score   support\n",
      "\n",
      "         ASL       1.00      0.93      0.96        14\n",
      "     CULater       0.89      1.00      0.94         8\n",
      "        busy       1.00      1.00      1.00         8\n",
      "   canIHelpU       1.00      1.00      1.00         9\n",
      "        deaf       0.82      1.00      0.90         9\n",
      "        good       1.00      1.00      1.00         6\n",
      " hardHearing       1.00      1.00      1.00         9\n",
      "        have       1.00      1.00      1.00         5\n",
      "       hello       1.00      1.00      1.00        12\n",
      "         hru       1.00      0.89      0.94         9\n",
      "       learn       0.89      1.00      0.94         8\n",
      "   nicemeetu       1.00      1.00      1.00         6\n",
      "          no       1.00      1.00      1.00         9\n",
      "     notAlot       1.00      1.00      1.00        13\n",
      "     nothing       1.00      0.80      0.89         5\n",
      "          ok       1.00      1.00      1.00         8\n",
      "      please       1.00      1.00      1.00         5\n",
      "signLanguage       1.00      0.92      0.96        13\n",
      "       sorry       1.00      1.00      1.00         7\n",
      "        want       1.00      1.00      1.00        11\n",
      "     welcome       1.00      1.00      1.00        11\n",
      "     whatsup       1.00      1.00      1.00        11\n",
      "         yes       1.00      1.00      1.00        13\n",
      "\n",
      "    accuracy                           0.98       209\n",
      "   macro avg       0.98      0.98      0.98       209\n",
      "weighted avg       0.98      0.98      0.98       209\n",
      "\n"
     ]
    }
   ],
   "source": [
    "# print(encoder.inverse_transform(Y_test).shape)\n",
    "# print(encoder.inverse_transform(Ysvm_predict).shape)\n",
    "# y1 = encoder.inverse_transform(Y_test)\n",
    "# y2 = encoder.inverse_transform(Ysvm_predict)\n",
    "# print(classification_report(y1, y2))\n"
   ]
  },
  {
   "cell_type": "code",
   "execution_count": null,
   "id": "e09f5504",
   "metadata": {},
   "outputs": [],
   "source": []
  },
  {
   "cell_type": "code",
   "execution_count": null,
   "id": "90fd71db",
   "metadata": {},
   "outputs": [],
   "source": []
  },
  {
   "cell_type": "code",
   "execution_count": null,
   "id": "fd5b4eb5",
   "metadata": {},
   "outputs": [],
   "source": []
  },
  {
   "cell_type": "code",
   "execution_count": null,
   "id": "a75e73bb",
   "metadata": {},
   "outputs": [],
   "source": [
    "from tensorflow.keras.models import Sequential\n",
    "from tensorflow.keras.layers import Dense, InputLayer\n",
    "import tensorflow.keras.backend as K\n",
    "\n",
    "# model = Sequential()\n",
    "# model.add(InputLayer(57))\n",
    "# model.add(Dense(120, activation = \"relu\"))\n",
    "# model.add(Dense(23, activation = \"sigmoid\"))\n",
    "# model.summary()\n",
    "\n",
    "# model = Sequential()\n",
    "# model.add(Dense(8, input_dim=57, activation='relu'))\n",
    "# model.add(Dense(23, activation='softmax'))\n",
    "\n",
    "# model.compile(loss='categorical_crossentropy',\n",
    "#               optimizer='adam', \n",
    "#               metrics=['accuracy'])\n",
    "# model.summary()\n",
    "\n",
    "model = Sequential()\n",
    "model.add(InputLayer(57))\n",
    "model.add(Dense(128, activation='relu',kernel_regularizer=regularizers.l2()))\n",
    "# model.add(tf.keras.layers.Dropout(0.1))\n",
    "# model.add(Dense(64, activation='relu'))\n",
    "#model.add(tf.keras.layers.Dropout(0.2))\n",
    "model.add(Dense(23, activation='softmax'))\n",
    "\n",
    "model.summary()"
   ]
  },
  {
   "cell_type": "code",
   "execution_count": null,
   "id": "1e032c6c",
   "metadata": {},
   "outputs": [],
   "source": [
    "from tensorflow.keras.optimizers import Adam, RMSprop\n",
    "from tensorflow.keras import regularizers\n",
    "from tensorflow.keras.callbacks import ReduceLROnPlateau, EarlyStopping, ModelCheckpoint\n",
    "\n",
    "reduce_lr = ReduceLROnPlateau(monitor='val_loss', factor=0.05,\n",
    "                              patience=80, min_lr=0.0001)\n",
    "\n",
    "early_stopping = EarlyStopping(monitor='loss', patience=160)\n",
    "\n",
    "model.compile(loss='sparse_categorical_crossentropy',\n",
    "              optimizer=Adam(0.001), \n",
    "              metrics=['accuracy'])"
   ]
  },
  {
   "cell_type": "code",
   "execution_count": null,
   "id": "311cea53",
   "metadata": {},
   "outputs": [],
   "source": [
    "# model.fit(X_train, Y_train, verbose=0, epochs= 200)\n",
    "# model.fit(X_train, Y_train, \n",
    "#           verbose=1, \n",
    "#           epochs=200, \n",
    "#           batch_size=35,\n",
    "#          callbacks=[reduce_lr,early_stopping])\n",
    "model.fit(X_train, Y_train,validation_data=(X_test,Y_test) , \n",
    "          epochs= 500,batch_size=64,\n",
    "          callbacks=[reduce_lr,early_stopping]\n",
    "         )\n",
    "# from sklearn.metrics import confusion_matrix\n",
    "# Y_pred_class = model.predict_classes(X_test)\n",
    "# Y_predicted = model.predict(X_test)\n",
    "# Y_test_class = np.argmax(Y_test, axis=1)\n",
    "# confusion_matrix(Y_test_class, Y_pred_class)\n",
    "\n",
    "Y_predicted = model.predict(X_test)\n",
    "Y_predicted_class = np.argmax(Y_predicted,axis=1)\n",
    "# Y_test_class = np.argmax(Y_test, axis=1)\n",
    "# confusion_matrix(Y_test, Y_predicted_class)\n",
    "print(classification_report(Y_test, Y_predicted_class))"
   ]
  }
 ],
 "metadata": {
  "kernelspec": {
   "display_name": "Python 3 (ipykernel)",
   "language": "python",
   "name": "python3"
  },
  "language_info": {
   "codemirror_mode": {
    "name": "ipython",
    "version": 3
   },
   "file_extension": ".py",
   "mimetype": "text/x-python",
   "name": "python",
   "nbconvert_exporter": "python",
   "pygments_lexer": "ipython3",
   "version": "3.8.8"
  }
 },
 "nbformat": 4,
 "nbformat_minor": 5
}
